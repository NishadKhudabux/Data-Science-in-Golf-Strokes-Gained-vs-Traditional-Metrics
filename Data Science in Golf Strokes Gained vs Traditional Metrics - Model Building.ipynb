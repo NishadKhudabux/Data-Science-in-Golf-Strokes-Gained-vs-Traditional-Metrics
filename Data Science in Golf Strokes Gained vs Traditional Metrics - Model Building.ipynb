{
 "cells": [
  {
   "cell_type": "markdown",
   "id": "aa3ee2e2-ee95-4f7a-a4d9-298953d24e15",
   "metadata": {
    "tags": []
   },
   "source": [
    "# **Data Science in Golf: Strokes Gained vs Traditional Metrics - Model Building**"
   ]
  },
  {
   "cell_type": "markdown",
   "id": "18a7db5c-d9de-4aa1-9f87-b415005c5a0c",
   "metadata": {
    "tags": []
   },
   "source": [
    "--------------------------------\n",
    "### **Context** \n",
    "-------------------------------\n",
    "Golf is a great example of how data science can provide valuable insight. Golf is a sport steeped in tradition and has been traditionally evaluated using metrics like scoring average, fairways hit, and greens in regulation. However, these traditional metrics have limitations and may not provide a complete picture of a player's skill. Data science and analytics, specifically the use of Strokes Gained, can help to overcome these limitations by providing a more accurate and comprehensive assessment of a player's performance. \n",
    "\n",
    "The use of a normalized set of metrics allows for better comparison across different courses and fields, and can help identify areas for improvement. \n",
    "\n",
    "Additionally, there are misconceptions about the game of golf on what skills result in shooting lower scores and winning tournaments, but by using data science and Strokes Gained, it is possible to dispel those misconceptions and focus on facts and facts-based analysis, which can lead to better performance and ultimately better results. \n",
    "\n",
    "#### **Strokes Gained**\n",
    "\n",
    "Strokes Gained (often called the Moneyball of golf) is a relatively new metric in golf that aims to measure a player's performance relative to the rest of the field. It does this by comparing a player's performance on a given hole or round to the expected performance of an \"average\" golfer. \n",
    "\n",
    "Traditional golf metrics, such as scoring average, fairways hit, and greens in regulation, do not take into account the difficulty of the course or the level of competition. Additionally many of these metrics were popularized because they sound good, but often they provide limited insight or in some cases act as misleading metrics. In the example of fairways hit in regulation, this metric does not take into account distance left to the hole. In these cases a shot 10 yards from the hole in the rough would be ranked lower than a shot 300 yards+ from the hole in the fairway, which is clearly counter to what it should be. \n",
    "\n",
    "Strokes Gained, on the other hand, uses data from thousands of rounds to calculate the expected performance on each hole and then compares a player's actual performance to that expectation. This allows for a more accurate assessment of a player's skill and can help identify areas where they need to improve.\n",
    "\n",
    "----------------------------\n",
    "### **Objective**\n",
    "-----------------------------\n",
    "The objective of this project is to analyze data from the 2010 to 2018 PGA tour season using various metrics, including Strokes Gained, to gain insight into the performance of professional golfers. The specific objectives of this project are as follows:\n",
    "\n",
    "* Draw insight from data from the 2010 to 2018 PGA tour season.\n",
    "    * Which features lead to the greatest success in golf? Specifically compare how strokes gained stats compare to the traditional stats. \n",
    "     * Investigate if the traditional view that short game (putting and chipping) is more valuable than long game skills (driving and approach shots)?\n",
    "    * Investigate if the traditional view that driving accuracy (fairways hit %) is more valuable than driving distance?\n",
    "* Determine a the best predictive feature to measure \"sucess\" in golf,\n",
    "* Build a prediction model for \"success\" in golf based on based on that feature.\n",
    "* Compare the effectiveness of the Strokes Gained metrics to traditional metrics in predicting success by conducting feature analysis on the impact of different metrics. \n",
    "\n",
    "Overall, the goal of this project is to use data science to gain a better understanding of golf performance and to identify areas for improvement. By analyzing data from the PGA tour, this project will provide insights that can be used to improve the performance of golfers at all levels.\n",
    "\n",
    "--------------------------\n",
    "### **Data Description**\n",
    "--------------------------\n",
    "Dataset contains PGA Tour Data from 2010 to 2018 seasons (special note data is pre-covid season 2020). \n",
    "\n",
    "**Name the target variable - Looks like wins and top 10 might be out for the small sample size. Fedex cup might be out as well because of the fedex cup weekend? Money might be out as it looks like there might be a lot of nulls for some reason?**\n",
    "\n",
    "* `Player Name` - Name of the player\n",
    "* `Rounds` - Number of rounds they played during that specific season\n",
    "* `Fairway Percentage` - Percentage of Fairways hit off the tee. \n",
    "* `Year` - Season played. Because multiple seasons where recored there will be duplicates in column `Player Names` that represent the different seasons they recorded these stats.  \n",
    "* `Avg Distance`- Average **driving** distance\n",
    "* `gir`- Greens hit in regulation\n",
    "* `Average Putts`- Average puts in a round (18 holes)\n",
    "* `Average Scrambling`- Measure of a golfers performance when they miss the green in regulation. Value is a percentage of how likely they are able to save par in that instance. \n",
    "* `Average Score`- Average number of strokes taken per round, that is a average of all a players scores that season. The number is adjusted by the stroke average (difficulty) of each tournament.\n",
    "* `Points`- Points on the PGA Tour website refer to a player's standing in the FedEx Cup points race, which is a season-long competition that awards points to players based on their performance in each tournament throughout the season. \n",
    "    * Certain tournaments on the PGA Tour award more FedEx Cup points than others. The FedEx Cup points system is designed to award more points to players who compete in tournaments with stronger fields\n",
    "    * Additionally, tournaments that are part of the FedEx Cup playoffs (The Northern Trust, BMW Championship, Tour Championship) also award more FedEx Cup points than regular season events. The point distribution increases as the playoffs progress and the field gets smaller.\n",
    "* `Wins` - Total number of wins that season\n",
    "* `Top 10`- Total number of top 10 placements that season\n",
    "* `Money`- Total money earned from tournament winnings. \n",
    "\n",
    "**Strokes Gained Discription**\n",
    "\n",
    "Strokes Gained metrics are calculated by comparing the number of strokes a player takes to the number of strokes an average player would take on the same shot. \n",
    "\n",
    "Example: In the case where a player has a 16-ft 11-inches putt, which has an average strokes gained of 1.826 (on average players take 1.826 strokes to get it in the hole). If the player putts it to 4ft, which has a average strokes gained of 1.12 and then they then proceeded to putt it in. The calculation is:\n",
    "\n",
    "* 1.826(SG 1rst putt) -1.12(SG 2nd putt) - 1(putt in) = -0.29 \n",
    "\n",
    "That player receives a negative 0.29 strokes gained for those putts. That means they performed 0.29 strokes worse than the average player. Compared to if they holed the putt out in 1 shot.\n",
    "\n",
    "* 1.826(SG 1rst putt) - 1(putt in) = 0.826\n",
    "\n",
    "The player would receive a postive 0.826 for that putt. That means they performed 0.826 almost an entire stroke better than the average player. A similar calculation can be done for ever shot on the course.  \n",
    "\n",
    "* `Average SG Putts`- The average strokes gained for all putts hit in a round (calculated as shown above) that is then subtracted by the field average strokes gained to account for the tournament difficulty. The sum of each round is then divided by the number of rounds played. \n",
    "* `Average SG Total`- The average strokes gained performed compared to the rest of the field at each tournament. \n",
    "* `SG:OTT`- Strokes Gained Off-The-Tee measures a player's performance off the tee (from the tee box) compared to the rest of the field in a given tournament or round. \n",
    "* `SG:APR`- Strokes Gained Approach measures a player's performance on approach shots (shots from the fairway or rough, played to the green) compared to the rest of the field in a given tournament or round. \n",
    "* `SG:ARG`- Strokes Gained Around-The-Green measures a player's performance on shots played around the green (such as chip shots, pitches, and bunker shots) compared to the rest of the field in a given tournament or round."
   ]
  },
  {
   "cell_type": "markdown",
   "id": "c59e59aa-e804-4e46-8faa-9716c2b3fa6b",
   "metadata": {
    "tags": []
   },
   "source": [
    "-------------------------------\n",
    "### **Recommendations From EDA** \n",
    "-------------------------------\n",
    "* Average_Score is a good metric that focuses on playing well. It is adjusted for the average score of each tournament, but that should only increase its validity. It is our best option of all predictive features. \n",
    "* Dropped a number of irrelevant or potentially biased columns from our analysis, we should repeat this step for the model building phase. Droped Columns include:\n",
    "    * `Points`, `Wins`, `Top_10`, and `Money` - potential predictive features that would not perform as well as `Average_Score`.\n",
    "    * `Player_Name`, `Year` - irrelevant features.\n",
    "    * `Rounds` - irrelevant to performance stats, but could biase the data as better players tend to play fewer tournaments. \n",
    "    * Kept `Average_SG_Total` for analysis but should drop from model analysis as it too tightly correlated with `Average_Score`. While it would prove valuable as a predictive feature, it would prevent us from seeing which component features of strokes gained are more critical. "
   ]
  },
  {
   "cell_type": "markdown",
   "id": "6e22c1c7-8a3f-4989-99b5-afdcda97caa3",
   "metadata": {},
   "source": [
    "## **Importing Data**"
   ]
  },
  {
   "cell_type": "markdown",
   "id": "7c6eaf60-c784-4947-97f5-44cc5dd6d24b",
   "metadata": {},
   "source": [
    "### **Import the necessary libraries**"
   ]
  },
  {
   "cell_type": "code",
   "execution_count": 2,
   "id": "9db90160-a552-4a50-ae08-873e1d204687",
   "metadata": {},
   "outputs": [],
   "source": [
    "import numpy as np\n",
    "import pandas as pd\n",
    "import matplotlib.pyplot as plt\n",
    "import seaborn as sns\n",
    "sns.set_theme()\n",
    "\n",
    "from sklearn.model_selection import train_test_split\n",
    "\n",
    "from sklearn.linear_model import LogisticRegression\n",
    "\n",
    "from sklearn import metrics\n",
    "from sklearn.metrics import confusion_matrix, classification_report,accuracy_score,precision_score,recall_score,f1_score\n",
    "\n",
    "from sklearn import tree\n",
    "from sklearn.tree import DecisionTreeRegressor #Used for a decision tree with a continuouse dependent variable\n",
    "\n",
    "from sklearn.ensemble import BaggingClassifier\n",
    "from sklearn.ensemble import RandomForestRegressor #Used for a random forest with a continuouse dependent variable\n",
    "\n",
    "import scipy.stats as stats\n",
    "\n",
    "from sklearn.model_selection import GridSearchCV\n",
    "\n",
    "\n",
    "import warnings\n",
    "warnings.filterwarnings('ignore')"
   ]
  },
  {
   "cell_type": "markdown",
   "id": "15ad138f-c78b-40cc-830f-84d6bac2ca94",
   "metadata": {},
   "source": [
    "### **Read the dataset**"
   ]
  },
  {
   "cell_type": "code",
   "execution_count": 3,
   "id": "0f3df8d5-e4e6-4fa1-adc3-1d0f9f8d596f",
   "metadata": {},
   "outputs": [],
   "source": [
    "hm=pd.read_csv(\"pgaTourData.csv\")"
   ]
  },
  {
   "cell_type": "code",
   "execution_count": 4,
   "id": "41a5b28d-c4a4-4be4-bc46-8053e0fa64cb",
   "metadata": {},
   "outputs": [],
   "source": [
    "data=hm.copy()"
   ]
  },
  {
   "cell_type": "markdown",
   "id": "631b5970-b091-4275-8f67-ef3132c05268",
   "metadata": {},
   "source": [
    "#### Formate the column names to have _ instead of spaces"
   ]
  },
  {
   "cell_type": "code",
   "execution_count": 5,
   "id": "6a7dbb1e-9cf7-48ef-b049-699a8dde33d1",
   "metadata": {},
   "outputs": [
    {
     "name": "stdout",
     "output_type": "stream",
     "text": [
      "Index(['Player_Name', 'Rounds', 'Fairway_Percentage', 'Year', 'Avg_Distance',\n",
      "       'gir', 'Average_Putts', 'Average_Scrambling', 'Average_Score', 'Points',\n",
      "       'Wins', 'Top_10', 'Average_SG_Putts', 'Average_SG_Total', 'SG:OTT',\n",
      "       'SG:APR', 'SG:ARG', 'Money'],\n",
      "      dtype='object')\n"
     ]
    }
   ],
   "source": [
    "# replace spaces with underscores in column names\n",
    "for col in data.columns:\n",
    "    data.rename(columns={col: col.replace(\" \", \"_\")}, inplace=True)\n",
    "\n",
    "print(data.columns)"
   ]
  },
  {
   "cell_type": "markdown",
   "id": "ae8c004d-9d49-4e74-8757-b0920ba1ebf7",
   "metadata": {},
   "source": [
    "#### **Data Overview**"
   ]
  },
  {
   "cell_type": "code",
   "execution_count": 6,
   "id": "ce4ad456-348a-4929-bca9-78c6c32af04a",
   "metadata": {},
   "outputs": [
    {
     "data": {
      "text/html": [
       "<div>\n",
       "<style scoped>\n",
       "    .dataframe tbody tr th:only-of-type {\n",
       "        vertical-align: middle;\n",
       "    }\n",
       "\n",
       "    .dataframe tbody tr th {\n",
       "        vertical-align: top;\n",
       "    }\n",
       "\n",
       "    .dataframe thead th {\n",
       "        text-align: right;\n",
       "    }\n",
       "</style>\n",
       "<table border=\"1\" class=\"dataframe\">\n",
       "  <thead>\n",
       "    <tr style=\"text-align: right;\">\n",
       "      <th></th>\n",
       "      <th>Player_Name</th>\n",
       "      <th>Rounds</th>\n",
       "      <th>Fairway_Percentage</th>\n",
       "      <th>Year</th>\n",
       "      <th>Avg_Distance</th>\n",
       "      <th>gir</th>\n",
       "      <th>Average_Putts</th>\n",
       "      <th>Average_Scrambling</th>\n",
       "      <th>Average_Score</th>\n",
       "      <th>Points</th>\n",
       "      <th>Wins</th>\n",
       "      <th>Top_10</th>\n",
       "      <th>Average_SG_Putts</th>\n",
       "      <th>Average_SG_Total</th>\n",
       "      <th>SG:OTT</th>\n",
       "      <th>SG:APR</th>\n",
       "      <th>SG:ARG</th>\n",
       "      <th>Money</th>\n",
       "    </tr>\n",
       "  </thead>\n",
       "  <tbody>\n",
       "    <tr>\n",
       "      <th>0</th>\n",
       "      <td>Henrik Stenson</td>\n",
       "      <td>60.0</td>\n",
       "      <td>75.19</td>\n",
       "      <td>2018</td>\n",
       "      <td>291.5</td>\n",
       "      <td>73.51</td>\n",
       "      <td>29.93</td>\n",
       "      <td>60.67</td>\n",
       "      <td>69.617</td>\n",
       "      <td>868</td>\n",
       "      <td>NaN</td>\n",
       "      <td>5.0</td>\n",
       "      <td>-0.207</td>\n",
       "      <td>1.153</td>\n",
       "      <td>0.427</td>\n",
       "      <td>0.960</td>\n",
       "      <td>-0.027</td>\n",
       "      <td>$2,680,487</td>\n",
       "    </tr>\n",
       "    <tr>\n",
       "      <th>1</th>\n",
       "      <td>Ryan Armour</td>\n",
       "      <td>109.0</td>\n",
       "      <td>73.58</td>\n",
       "      <td>2018</td>\n",
       "      <td>283.5</td>\n",
       "      <td>68.22</td>\n",
       "      <td>29.31</td>\n",
       "      <td>60.13</td>\n",
       "      <td>70.758</td>\n",
       "      <td>1,006</td>\n",
       "      <td>1.0</td>\n",
       "      <td>3.0</td>\n",
       "      <td>-0.058</td>\n",
       "      <td>0.337</td>\n",
       "      <td>-0.012</td>\n",
       "      <td>0.213</td>\n",
       "      <td>0.194</td>\n",
       "      <td>$2,485,203</td>\n",
       "    </tr>\n",
       "    <tr>\n",
       "      <th>2</th>\n",
       "      <td>Chez Reavie</td>\n",
       "      <td>93.0</td>\n",
       "      <td>72.24</td>\n",
       "      <td>2018</td>\n",
       "      <td>286.5</td>\n",
       "      <td>68.67</td>\n",
       "      <td>29.12</td>\n",
       "      <td>62.27</td>\n",
       "      <td>70.432</td>\n",
       "      <td>1,020</td>\n",
       "      <td>NaN</td>\n",
       "      <td>3.0</td>\n",
       "      <td>0.192</td>\n",
       "      <td>0.674</td>\n",
       "      <td>0.183</td>\n",
       "      <td>0.437</td>\n",
       "      <td>-0.137</td>\n",
       "      <td>$2,700,018</td>\n",
       "    </tr>\n",
       "    <tr>\n",
       "      <th>3</th>\n",
       "      <td>Ryan Moore</td>\n",
       "      <td>78.0</td>\n",
       "      <td>71.94</td>\n",
       "      <td>2018</td>\n",
       "      <td>289.2</td>\n",
       "      <td>68.80</td>\n",
       "      <td>29.17</td>\n",
       "      <td>64.16</td>\n",
       "      <td>70.015</td>\n",
       "      <td>795</td>\n",
       "      <td>NaN</td>\n",
       "      <td>5.0</td>\n",
       "      <td>-0.271</td>\n",
       "      <td>0.941</td>\n",
       "      <td>0.406</td>\n",
       "      <td>0.532</td>\n",
       "      <td>0.273</td>\n",
       "      <td>$1,986,608</td>\n",
       "    </tr>\n",
       "    <tr>\n",
       "      <th>4</th>\n",
       "      <td>Brian Stuard</td>\n",
       "      <td>103.0</td>\n",
       "      <td>71.44</td>\n",
       "      <td>2018</td>\n",
       "      <td>278.9</td>\n",
       "      <td>67.12</td>\n",
       "      <td>29.11</td>\n",
       "      <td>59.23</td>\n",
       "      <td>71.038</td>\n",
       "      <td>421</td>\n",
       "      <td>NaN</td>\n",
       "      <td>3.0</td>\n",
       "      <td>0.164</td>\n",
       "      <td>0.062</td>\n",
       "      <td>-0.227</td>\n",
       "      <td>0.099</td>\n",
       "      <td>0.026</td>\n",
       "      <td>$1,089,763</td>\n",
       "    </tr>\n",
       "  </tbody>\n",
       "</table>\n",
       "</div>"
      ],
      "text/plain": [
       "      Player_Name  Rounds  Fairway_Percentage  Year  Avg_Distance    gir  \\\n",
       "0  Henrik Stenson    60.0               75.19  2018         291.5  73.51   \n",
       "1     Ryan Armour   109.0               73.58  2018         283.5  68.22   \n",
       "2     Chez Reavie    93.0               72.24  2018         286.5  68.67   \n",
       "3      Ryan Moore    78.0               71.94  2018         289.2  68.80   \n",
       "4    Brian Stuard   103.0               71.44  2018         278.9  67.12   \n",
       "\n",
       "   Average_Putts  Average_Scrambling  Average_Score Points  Wins  Top_10  \\\n",
       "0          29.93               60.67         69.617    868   NaN     5.0   \n",
       "1          29.31               60.13         70.758  1,006   1.0     3.0   \n",
       "2          29.12               62.27         70.432  1,020   NaN     3.0   \n",
       "3          29.17               64.16         70.015    795   NaN     5.0   \n",
       "4          29.11               59.23         71.038    421   NaN     3.0   \n",
       "\n",
       "   Average_SG_Putts  Average_SG_Total  SG:OTT  SG:APR  SG:ARG       Money  \n",
       "0            -0.207             1.153   0.427   0.960  -0.027  $2,680,487  \n",
       "1            -0.058             0.337  -0.012   0.213   0.194  $2,485,203  \n",
       "2             0.192             0.674   0.183   0.437  -0.137  $2,700,018  \n",
       "3            -0.271             0.941   0.406   0.532   0.273  $1,986,608  \n",
       "4             0.164             0.062  -0.227   0.099   0.026  $1,089,763  "
      ]
     },
     "execution_count": 6,
     "metadata": {},
     "output_type": "execute_result"
    }
   ],
   "source": [
    "data.head()"
   ]
  },
  {
   "cell_type": "code",
   "execution_count": 7,
   "id": "4767e12c-758f-438b-b829-fb55091eb941",
   "metadata": {},
   "outputs": [
    {
     "data": {
      "text/plain": [
       "(2312, 18)"
      ]
     },
     "execution_count": 7,
     "metadata": {},
     "output_type": "execute_result"
    }
   ],
   "source": [
    "data.shape"
   ]
  },
  {
   "cell_type": "code",
   "execution_count": 8,
   "id": "ab6353d7-8feb-426c-a4e5-d4cfc2bf71d0",
   "metadata": {},
   "outputs": [
    {
     "name": "stdout",
     "output_type": "stream",
     "text": [
      "<class 'pandas.core.frame.DataFrame'>\n",
      "RangeIndex: 2312 entries, 0 to 2311\n",
      "Data columns (total 18 columns):\n",
      " #   Column              Non-Null Count  Dtype  \n",
      "---  ------              --------------  -----  \n",
      " 0   Player_Name         2312 non-null   object \n",
      " 1   Rounds              1678 non-null   float64\n",
      " 2   Fairway_Percentage  1678 non-null   float64\n",
      " 3   Year                2312 non-null   int64  \n",
      " 4   Avg_Distance        1678 non-null   float64\n",
      " 5   gir                 1678 non-null   float64\n",
      " 6   Average_Putts       1678 non-null   float64\n",
      " 7   Average_Scrambling  1678 non-null   float64\n",
      " 8   Average_Score       1678 non-null   float64\n",
      " 9   Points              2296 non-null   object \n",
      " 10  Wins                293 non-null    float64\n",
      " 11  Top_10              1458 non-null   float64\n",
      " 12  Average_SG_Putts    1678 non-null   float64\n",
      " 13  Average_SG_Total    1678 non-null   float64\n",
      " 14  SG:OTT              1678 non-null   float64\n",
      " 15  SG:APR              1678 non-null   float64\n",
      " 16  SG:ARG              1678 non-null   float64\n",
      " 17  Money               2300 non-null   object \n",
      "dtypes: float64(14), int64(1), object(3)\n",
      "memory usage: 325.2+ KB\n"
     ]
    }
   ],
   "source": [
    "data.info()"
   ]
  },
  {
   "cell_type": "markdown",
   "id": "e1f82f3f-83b8-4645-b613-b67cf1b56afb",
   "metadata": {},
   "source": [
    "All features are numerical except for `Player_Name`,`Points` and`Money`. \n",
    "* `Points` and`Money` **should be converted into numerical features.\n",
    "\n",
    "Multiple columns contain NULL values, all features exept: Player_Names and Year. Looks like there are 1678 values that are consitently non-null?"
   ]
  },
  {
   "cell_type": "markdown",
   "id": "5d8c0b51-586a-4fe4-b06a-ab31d75ff7b6",
   "metadata": {},
   "source": [
    "#### **Drop Null Values**\n",
    "**Attempting to drop NULL rows with the above hypothesis that they are all from the same group**"
   ]
  },
  {
   "cell_type": "code",
   "execution_count": 9,
   "id": "a095706c-8029-4e06-ae40-d7605616ce92",
   "metadata": {},
   "outputs": [],
   "source": [
    "# Make a copy to check assumption\n",
    "data_clean = data.copy()"
   ]
  },
  {
   "cell_type": "code",
   "execution_count": 10,
   "id": "014bb9f2-6506-4ed2-a7b7-17838a694557",
   "metadata": {},
   "outputs": [],
   "source": [
    "# remove rows with null values in 'Average_SG_Putts' column\n",
    "data_clean = data_clean.dropna(subset=['Average_SG_Putts'])"
   ]
  },
  {
   "cell_type": "code",
   "execution_count": 11,
   "id": "ad1b85bb-4645-485f-8fce-7398b3f0d454",
   "metadata": {},
   "outputs": [
    {
     "name": "stdout",
     "output_type": "stream",
     "text": [
      "<class 'pandas.core.frame.DataFrame'>\n",
      "Int64Index: 1678 entries, 0 to 1677\n",
      "Data columns (total 18 columns):\n",
      " #   Column              Non-Null Count  Dtype  \n",
      "---  ------              --------------  -----  \n",
      " 0   Player_Name         1678 non-null   object \n",
      " 1   Rounds              1678 non-null   float64\n",
      " 2   Fairway_Percentage  1678 non-null   float64\n",
      " 3   Year                1678 non-null   int64  \n",
      " 4   Avg_Distance        1678 non-null   float64\n",
      " 5   gir                 1678 non-null   float64\n",
      " 6   Average_Putts       1678 non-null   float64\n",
      " 7   Average_Scrambling  1678 non-null   float64\n",
      " 8   Average_Score       1678 non-null   float64\n",
      " 9   Points              1674 non-null   object \n",
      " 10  Wins                283 non-null    float64\n",
      " 11  Top_10              1353 non-null   float64\n",
      " 12  Average_SG_Putts    1678 non-null   float64\n",
      " 13  Average_SG_Total    1678 non-null   float64\n",
      " 14  SG:OTT              1678 non-null   float64\n",
      " 15  SG:APR              1678 non-null   float64\n",
      " 16  SG:ARG              1678 non-null   float64\n",
      " 17  Money               1674 non-null   object \n",
      "dtypes: float64(14), int64(1), object(3)\n",
      "memory usage: 249.1+ KB\n"
     ]
    }
   ],
   "source": [
    "data_clean.info()"
   ]
  },
  {
   "cell_type": "markdown",
   "id": "3f031bda-7c3f-4dc4-85b0-f57128d38474",
   "metadata": {},
   "source": [
    "**Hypothesis was correct** there are 1678 values out of the original 2312 that are not null on a majority of the features. Will use this cleaned data as our dataset moving forward. \n",
    "* `Wins` and `Top_10` still contain a majority null, it is likely these are players who did not score on these metrics and can likely be changed to 0.\n",
    "* `Money` has 4 NULL values, we can examine these individually. "
   ]
  },
  {
   "cell_type": "markdown",
   "id": "8b203f86-10de-4845-95d4-a5afd09ba672",
   "metadata": {},
   "source": [
    "### **Choosing our predictive feature**\n",
    "The goal of our analysis is to determine which features best predict success in golf, but we have many choices for which feature we can use. \n",
    "* We can use `Average_Score`, `Points`, `Wins`, `Top_10`, and `Money`.\n",
    "* While `Wins` and `Top_10` are great measures of success, so few players achieve them that they would not function as a good predictive feature.\n",
    "* `Points` seems like a good metric on the surface, but fedex points are not distributed evenly in golf. Some tournaments are weighted more and a small selection of top players are allowed to play in the fedex cup which gives the most points. This all to say perhaps those different weights are balanced, but if we have a better option it would be prudent to use it isntead. \n",
    "* `Money` - Is a good overall weight of success on the pga tour, but there are likely mutliple confounding factors involved. \n",
    "* `Average_Score` is a great metric that focuses on playing well. It is adjusted for the average score of each tournament, but that should only increase its validity. \n",
    "\n",
    "**The best choice for predicitve feature is `Average_Score` the other predictive features will be dropped**"
   ]
  },
  {
   "cell_type": "markdown",
   "id": "def2c0e0-3120-410b-9f03-c22c5aac765c",
   "metadata": {},
   "source": [
    "#### **Dropping Collumns**"
   ]
  },
  {
   "cell_type": "code",
   "execution_count": 12,
   "id": "c10cd948-6557-4751-aa85-dd486153f0d8",
   "metadata": {
    "jp-MarkdownHeadingCollapsed": true,
    "tags": []
   },
   "outputs": [],
   "source": [
    "# drop 'Points', 'Wins', 'Top_10', 'Money' columns\n",
    "data_clean.drop(columns=['Points', 'Wins', 'Top_10', 'Money'], inplace=True)"
   ]
  },
  {
   "cell_type": "code",
   "execution_count": 13,
   "id": "c6e4cf4c-2ca2-4c86-acf6-cf57b2a14d34",
   "metadata": {},
   "outputs": [],
   "source": [
    "data_clean.drop(columns=['Average_SG_Total'], inplace=True)"
   ]
  },
  {
   "cell_type": "markdown",
   "id": "9f9874d0-104c-4f1e-854b-87634814cf84",
   "metadata": {},
   "source": [
    "* Dropping `Player_Name`, `Year` as they have no impact.\n",
    "\n",
    "* Dropping `Rounds` as it is not a measure of how well golf is played. **It would could skew the data as better players play fewer rounds.**\n",
    "\n",
    "* Dropping `Average_SG_Total` as we want the individual SG metrics to predict Average Score and `Average_SG_Total` encomposes all those metrics and therefore is to tightly correlated to the prediction target and will dominate the model. "
   ]
  },
  {
   "cell_type": "code",
   "execution_count": 14,
   "id": "3ed8a62e-eb68-412e-911c-724d54c4f6c6",
   "metadata": {},
   "outputs": [],
   "source": [
    "# drop 'Player_Name', 'Year' and 'Rounds'\n",
    "data_clean.drop(columns=['Player_Name', 'Year', 'Rounds'], inplace=True)"
   ]
  },
  {
   "cell_type": "code",
   "execution_count": 15,
   "id": "dbc6e3a4-cdc4-45ad-954b-bcc25d6f985e",
   "metadata": {},
   "outputs": [
    {
     "name": "stdout",
     "output_type": "stream",
     "text": [
      "<class 'pandas.core.frame.DataFrame'>\n",
      "Int64Index: 1678 entries, 0 to 1677\n",
      "Data columns (total 10 columns):\n",
      " #   Column              Non-Null Count  Dtype  \n",
      "---  ------              --------------  -----  \n",
      " 0   Fairway_Percentage  1678 non-null   float64\n",
      " 1   Avg_Distance        1678 non-null   float64\n",
      " 2   gir                 1678 non-null   float64\n",
      " 3   Average_Putts       1678 non-null   float64\n",
      " 4   Average_Scrambling  1678 non-null   float64\n",
      " 5   Average_Score       1678 non-null   float64\n",
      " 6   Average_SG_Putts    1678 non-null   float64\n",
      " 7   SG:OTT              1678 non-null   float64\n",
      " 8   SG:APR              1678 non-null   float64\n",
      " 9   SG:ARG              1678 non-null   float64\n",
      "dtypes: float64(10)\n",
      "memory usage: 144.2 KB\n"
     ]
    }
   ],
   "source": [
    "data_clean.info()"
   ]
  },
  {
   "cell_type": "markdown",
   "id": "655898d1-aaa9-4f78-b309-a1d2a5fbb68a",
   "metadata": {},
   "source": [
    "The remaining data is are numerical therefore we no longer need to convert any features."
   ]
  },
  {
   "cell_type": "markdown",
   "id": "51879689-a874-440f-bb8e-59b9b5673a34",
   "metadata": {
    "id": "7QgAXSWfuS-M",
    "tags": []
   },
   "source": [
    "## **Data Preparation**"
   ]
  },
  {
   "cell_type": "markdown",
   "id": "ffaf537f-53bb-4f51-b5d1-fbf4c8dd6ec4",
   "metadata": {
    "id": "jSUhpu0fuS-M"
   },
   "source": [
    "### **Separating the target variable from other variables**"
   ]
  },
  {
   "cell_type": "code",
   "execution_count": 16,
   "id": "ab662897-e491-44bd-aadd-a915718e505e",
   "metadata": {
    "id": "2_IZEwKruS-N"
   },
   "outputs": [],
   "source": [
    "# Drop the dependent variable `Average_Score` from the dataframe and create the X(independent variable) matrix\n",
    "\n",
    "X = data_clean.drop(columns = 'Average_Score') #make a copy called X which is a dataframe with \"Average_Score\" removed\n",
    "\n",
    "# Create y(dependent varibale)\n",
    "Y = data_clean['Average_Score'] #Y is a series (column) containing the \"Average_Score\" label data"
   ]
  },
  {
   "cell_type": "markdown",
   "id": "83ca0fa2-b27c-4365-9976-a8c22efeeabd",
   "metadata": {
    "id": "La_3-i5quS-P"
   },
   "source": [
    "### **Splitting the data into 70% train and 30% test set**"
   ]
  },
  {
   "cell_type": "code",
   "execution_count": 17,
   "id": "fdd6c9c9-4070-4bd2-a4c9-1e50e95c45ec",
   "metadata": {
    "id": "sgF5mdtCuS-P"
   },
   "outputs": [],
   "source": [
    "# Split the data into training and test set\n",
    "x_train, x_test, y_train, y_test = train_test_split(X, Y, test_size = 0.30, random_state = 1)"
   ]
  },
  {
   "cell_type": "markdown",
   "id": "b80eea46-a52d-496a-8a8a-321de7b82bec",
   "metadata": {},
   "source": [
    "## **Model Building**"
   ]
  },
  {
   "cell_type": "markdown",
   "id": "33cc4cc8-492b-4475-8379-f28becfaa660",
   "metadata": {},
   "source": [
    "### **Basic Decision Tree**"
   ]
  },
  {
   "cell_type": "code",
   "execution_count": 18,
   "id": "af2788c1-cd44-4eee-a626-1871b795d1fc",
   "metadata": {
    "id": "_n6jIx9yuS-q"
   },
   "outputs": [
    {
     "data": {
      "text/plain": [
       "DecisionTreeRegressor()"
      ]
     },
     "execution_count": 18,
     "metadata": {},
     "output_type": "execute_result"
    }
   ],
   "source": [
    "# Fit a decision tree regression model to the training data\n",
    "d_tree_1 = DecisionTreeRegressor()\n",
    "\n",
    "d_tree_1.fit(x_train, y_train)"
   ]
  },
  {
   "cell_type": "code",
   "execution_count": 19,
   "id": "dbc24f2e-6ccb-4d01-b2ad-ddddb4f5e12e",
   "metadata": {},
   "outputs": [
    {
     "name": "stdout",
     "output_type": "stream",
     "text": [
      "Train Accuracy:  1.0\n",
      "Test Accuracy:  0.6651200125114656\n"
     ]
    }
   ],
   "source": [
    "# Evaluate the model on the training data\n",
    "train_accuracy = d_tree_1.score(x_train, y_train)\n",
    "\n",
    "print(\"Train Accuracy: \", train_accuracy)\n",
    "\n",
    "# Evaluate the model on the test data\n",
    "test_accuracy = d_tree_1.score(x_test, y_test)\n",
    "\n",
    "print(\"Test Accuracy: \", test_accuracy)"
   ]
  },
  {
   "cell_type": "markdown",
   "id": "62146221-6122-4a91-9c8f-fb94471ca7d2",
   "metadata": {},
   "source": [
    "Model is very **overfitted**. Let's try hyperparameter tuning using **GridSearchCV to find the optimal max_depth to reduce overfitting** of the model. We can tune some other hyperparameters as well."
   ]
  },
  {
   "cell_type": "markdown",
   "id": "4969ee60-9d04-482b-ac78-a3c0fc2c2c44",
   "metadata": {
    "tags": []
   },
   "source": [
    "#### Model Results Table"
   ]
  },
  {
   "cell_type": "code",
   "execution_count": 20,
   "id": "0921e650-2b51-4c4d-aba8-8b0c1073a70d",
   "metadata": {},
   "outputs": [
    {
     "data": {
      "text/html": [
       "<div>\n",
       "<style scoped>\n",
       "    .dataframe tbody tr th:only-of-type {\n",
       "        vertical-align: middle;\n",
       "    }\n",
       "\n",
       "    .dataframe tbody tr th {\n",
       "        vertical-align: top;\n",
       "    }\n",
       "\n",
       "    .dataframe thead th {\n",
       "        text-align: right;\n",
       "    }\n",
       "</style>\n",
       "<table border=\"1\" class=\"dataframe\">\n",
       "  <thead>\n",
       "    <tr style=\"text-align: right;\">\n",
       "      <th></th>\n",
       "      <th>Model_Name</th>\n",
       "      <th>Training_Accuracy</th>\n",
       "      <th>Testing_Accuracy</th>\n",
       "    </tr>\n",
       "  </thead>\n",
       "  <tbody>\n",
       "  </tbody>\n",
       "</table>\n",
       "</div>"
      ],
      "text/plain": [
       "Empty DataFrame\n",
       "Columns: [Model_Name, Training_Accuracy, Testing_Accuracy]\n",
       "Index: []"
      ]
     },
     "execution_count": 20,
     "metadata": {},
     "output_type": "execute_result"
    }
   ],
   "source": [
    "#Create a table \n",
    "results = pd.DataFrame(columns = ['Model_Name','Training_Accuracy','Testing_Accuracy'])\n",
    "\n",
    "results.head()"
   ]
  },
  {
   "cell_type": "code",
   "execution_count": 38,
   "id": "913d35dd-af3c-443b-9f01-c4101d17ea45",
   "metadata": {},
   "outputs": [
    {
     "data": {
      "text/html": [
       "<div>\n",
       "<style scoped>\n",
       "    .dataframe tbody tr th:only-of-type {\n",
       "        vertical-align: middle;\n",
       "    }\n",
       "\n",
       "    .dataframe tbody tr th {\n",
       "        vertical-align: top;\n",
       "    }\n",
       "\n",
       "    .dataframe thead th {\n",
       "        text-align: right;\n",
       "    }\n",
       "</style>\n",
       "<table border=\"1\" class=\"dataframe\">\n",
       "  <thead>\n",
       "    <tr style=\"text-align: right;\">\n",
       "      <th></th>\n",
       "      <th>Model_Name</th>\n",
       "      <th>Training_Accuracy</th>\n",
       "      <th>Testing_Accuracy</th>\n",
       "    </tr>\n",
       "  </thead>\n",
       "  <tbody>\n",
       "    <tr>\n",
       "      <th>0</th>\n",
       "      <td>d_tree_1</td>\n",
       "      <td>1.0</td>\n",
       "      <td>0.66512</td>\n",
       "    </tr>\n",
       "  </tbody>\n",
       "</table>\n",
       "</div>"
      ],
      "text/plain": [
       "  Model_Name Training_Accuracy Testing_Accuracy\n",
       "0   d_tree_1               1.0          0.66512"
      ]
     },
     "execution_count": 38,
     "metadata": {},
     "output_type": "execute_result"
    }
   ],
   "source": [
    "results = results.append({'Model_Name':'d_tree_1',\n",
    "                          'Training_Accuracy':1.0,\n",
    "                          'Testing_Accuracy':0.6651200125114656,},\n",
    "                            ignore_index=True)\n",
    "results"
   ]
  },
  {
   "cell_type": "markdown",
   "id": "79633851-3cfc-4ecd-8d23-302bc0e81fc9",
   "metadata": {},
   "source": [
    "### **Tuned Decision Tree**"
   ]
  },
  {
   "cell_type": "code",
   "execution_count": 21,
   "id": "aef8248b-3460-4100-8f2c-544ee502b8d5",
   "metadata": {},
   "outputs": [
    {
     "name": "stdout",
     "output_type": "stream",
     "text": [
      "Best Hyperparameters:  {'max_depth': 8, 'min_samples_leaf': 4, 'min_samples_split': 4}\n"
     ]
    }
   ],
   "source": [
    "# Define the hyperparameter grid to search\n",
    "param_grid = {'max_depth': [3, 4, 5, 6, 7, 8],\n",
    "              'min_samples_split': [2, 3, 4, 5], #minimum number of samples required to split an internal node\n",
    "              'min_samples_leaf': [1, 2, 3, 4]} #minimum number of samples to be a leaf node\n",
    "\n",
    "# Fit a decision tree regression model to the training data using GridSearchCV\n",
    "d_tree_2 = GridSearchCV(DecisionTreeRegressor(), param_grid, cv=5)\n",
    "d_tree_2.fit(x_train, y_train)\n",
    "\n",
    "# Print the best hyperparameters\n",
    "print(\"Best Hyperparameters: \", d_tree_2.best_params_)"
   ]
  },
  {
   "cell_type": "code",
   "execution_count": 22,
   "id": "cd38c0a9-7d18-4cc0-8fd5-d475088e910f",
   "metadata": {},
   "outputs": [
    {
     "name": "stdout",
     "output_type": "stream",
     "text": [
      "Training Accuracy:  0.898391519589668\n",
      "Test Accuracy:  0.6825467642802832\n"
     ]
    }
   ],
   "source": [
    "# Evaluate the model on the training data\n",
    "train_accuracy = d_tree_2.score(x_train, y_train)\n",
    "\n",
    "print(\"Training Accuracy: \", train_accuracy)\n",
    "\n",
    "# Evaluate the model on the test data\n",
    "test_accuracy = d_tree_2.score(x_test, y_test)\n",
    "\n",
    "print(\"Test Accuracy: \", test_accuracy)"
   ]
  },
  {
   "cell_type": "markdown",
   "id": "8b876977-6c29-48a0-bec1-e532eb8f3704",
   "metadata": {
    "tags": []
   },
   "source": [
    "#### Model Results Table"
   ]
  },
  {
   "cell_type": "code",
   "execution_count": 39,
   "id": "b00f9d83-6e4b-4f64-b121-abd3957e37ca",
   "metadata": {},
   "outputs": [
    {
     "data": {
      "text/html": [
       "<div>\n",
       "<style scoped>\n",
       "    .dataframe tbody tr th:only-of-type {\n",
       "        vertical-align: middle;\n",
       "    }\n",
       "\n",
       "    .dataframe tbody tr th {\n",
       "        vertical-align: top;\n",
       "    }\n",
       "\n",
       "    .dataframe thead th {\n",
       "        text-align: right;\n",
       "    }\n",
       "</style>\n",
       "<table border=\"1\" class=\"dataframe\">\n",
       "  <thead>\n",
       "    <tr style=\"text-align: right;\">\n",
       "      <th></th>\n",
       "      <th>Model_Name</th>\n",
       "      <th>Training_Accuracy</th>\n",
       "      <th>Testing_Accuracy</th>\n",
       "    </tr>\n",
       "  </thead>\n",
       "  <tbody>\n",
       "    <tr>\n",
       "      <th>0</th>\n",
       "      <td>d_tree_1</td>\n",
       "      <td>1.0</td>\n",
       "      <td>0.66512</td>\n",
       "    </tr>\n",
       "    <tr>\n",
       "      <th>1</th>\n",
       "      <td>d_tree_2</td>\n",
       "      <td>0.898392</td>\n",
       "      <td>0.682547</td>\n",
       "    </tr>\n",
       "  </tbody>\n",
       "</table>\n",
       "</div>"
      ],
      "text/plain": [
       "  Model_Name Training_Accuracy Testing_Accuracy\n",
       "0   d_tree_1               1.0          0.66512\n",
       "1   d_tree_2          0.898392         0.682547"
      ]
     },
     "execution_count": 39,
     "metadata": {},
     "output_type": "execute_result"
    }
   ],
   "source": [
    "results = results.append({'Model_Name':'d_tree_2',\n",
    "                          'Training_Accuracy':0.898391519589668,\n",
    "                          'Testing_Accuracy':0.6825467642802832,},\n",
    "                            ignore_index=True)\n",
    "results"
   ]
  },
  {
   "cell_type": "markdown",
   "id": "1f4b118b-7728-4b1c-9d59-95584a5e4300",
   "metadata": {},
   "source": [
    "**Observations**\n",
    "* Tuned Decision Tree is has reduced overall overfitting\n",
    "* The model is still performing ~20% better on the training data and only scoring an overall accuracy of 68%\n",
    "\n",
    "Will perform visualization on the tree to gain insight, but will try an **random forest** model to see if it performs better. "
   ]
  },
  {
   "cell_type": "markdown",
   "id": "0b783dca-5037-4209-a87e-327252b29837",
   "metadata": {},
   "source": [
    "#### **Visualize The Tree**"
   ]
  },
  {
   "cell_type": "code",
   "execution_count": 23,
   "id": "bbdb4b05-71fd-4221-90d3-9dc524024f36",
   "metadata": {},
   "outputs": [
    {
     "data": {
      "image/png": "[encoded data removed]",
      "text/plain": [
       "<Figure size 1440x720 with 1 Axes>"
      ]
     },
     "metadata": {},
     "output_type": "display_data"
    }
   ],
   "source": [
    "# Fit the best decision tree model found by GridSearchCV\n",
    "d_tree_best = d_tree_2.best_estimator_\n",
    "d_tree_best.fit(x_train, y_train)\n",
    "\n",
    "# Plot the decision tree with a maximum depth of 4\n",
    "plt.figure(figsize=(20,10))\n",
    "tree.plot_tree(d_tree_best, filled=True, max_depth=4, feature_names=X.columns, fontsize=10, precision=2,\n",
    "               class_names=['Negative', 'Positive'], node_ids=True, impurity=False, label='all')\n",
    "plt.show()"
   ]
  },
  {
   "cell_type": "markdown",
   "id": "97a1d682-84c8-4fde-8ef6-4b44ea458c02",
   "metadata": {},
   "source": [
    "#### **Feature Importance**"
   ]
  },
  {
   "cell_type": "code",
   "execution_count": 24,
   "id": "ddf40f54-018d-4659-a9f1-67aa0e770c8e",
   "metadata": {},
   "outputs": [
    {
     "data": {
      "image/png": "[encoded data removed]",
      "text/plain": [
       "<Figure size 720x360 with 1 Axes>"
      ]
     },
     "metadata": {},
     "output_type": "display_data"
    }
   ],
   "source": [
    "# Get the feature importances\n",
    "importances = d_tree_best.feature_importances_\n",
    "\n",
    "# Create an index of the feature importances, in descending order\n",
    "sorted_index = np.argsort(importances)[::-1]\n",
    "\n",
    "# Plot the feature importances, using the sorted index\n",
    "plt.figure(figsize=(10,5))\n",
    "plt.bar(range(x_train.shape[1]), importances[sorted_index], color='#006600', edgecolor='black')\n",
    "plt.xticks(range(x_train.shape[1]), x_train.columns[sorted_index], rotation=90)\n",
    "plt.xlabel(\"Features\")\n",
    "plt.ylabel(\"Importance\")\n",
    "plt.title(\"Feature Importance\")\n",
    "plt.show()"
   ]
  },
  {
   "cell_type": "markdown",
   "id": "40050458-2991-47a2-ad0b-9b5d3916cd3d",
   "metadata": {},
   "source": [
    "**Observations**\n",
    "* Feature importance (supported by tree visualization) show that:\n",
    "    * Strokes Gained Approach is the highest determining feature for golf scores.\n",
    "    * Strokes Gained Off The Tee and Average Scrambling show significant impact for golf scores.\n",
    "    * Strokes Gained Putts and Strokes Gained Around The Green show minor impact for golf scores.\n",
    "    * Average Putts, Greens in regulation, driving distance, and fairway percentages show the minimal impact for golf scores. \n",
    "* **This, along with insight drawn from EDA, confirms a number of our objective questions including**:\n",
    "    * We can see the top predicting features for score, and therefore the skills golfers should prioritize first, are approach shots, tee shots, and then scrambling. \n",
    "    * Between the strokes gained metrics and traditional metrics, strokes gained is the clear winner. With all traditional metrics having little to no impact other than average scrambling. \n",
    "    * The traditional view that short game is a higher priority than long game is also debunked, with long game metrics holding the top 2 positions. \n",
    "    * The hypothesis that fairways percentage is a missleading metric is also confirmed with it holding the lowest ranking position. \n",
    "\n",
    "**These insights, along with EDA, answer all our objective questions.** Howerver we should build a more generalized and accuracte model to solidify these claims. "
   ]
  },
  {
   "cell_type": "markdown",
   "id": "7d249173-d940-4965-9816-6c56b108beae",
   "metadata": {},
   "source": [
    "### **Random Forest Classifier - Base Model**"
   ]
  },
  {
   "cell_type": "code",
   "execution_count": 25,
   "id": "f79a2d2e-0045-4b1f-a3ea-c6ba18c017bb",
   "metadata": {},
   "outputs": [
    {
     "name": "stdout",
     "output_type": "stream",
     "text": [
      "Best parameters:  {'max_depth': None, 'min_samples_split': 2, 'n_estimators': 100}\n"
     ]
    }
   ],
   "source": [
    "# Define the parameter grid to search\n",
    "param_grid = {'n_estimators': [10, 50, 100],\n",
    "              'max_depth': [None, 5, 10],\n",
    "              'min_samples_split': [2, 5, 10]}\n",
    "\n",
    "# Create the random forest regressor model\n",
    "rf_1 = RandomForestRegressor(random_state=1)\n",
    "\n",
    "# Create the GridSearchCV object with a 5-fold cross-validation\n",
    "grid_rf = GridSearchCV(rf_1, param_grid, cv=5, return_train_score=True)\n",
    "\n",
    "# Fit the GridSearchCV object to the training data\n",
    "grid_rf.fit(x_train, y_train)\n",
    "\n",
    "# Print the best hyperparameters found by GridSearchCV\n",
    "print(\"Best parameters: \", grid_rf.best_params_)"
   ]
  },
  {
   "cell_type": "code",
   "execution_count": 26,
   "id": "214baa52-cf27-410d-86df-04dfb8cb92d1",
   "metadata": {},
   "outputs": [
    {
     "name": "stdout",
     "output_type": "stream",
     "text": [
      "Training accuracy:  0.9796996884358099\n",
      "Testing accuracy:  0.8590898953534397\n"
     ]
    }
   ],
   "source": [
    "# Get the training and testing accuracy\n",
    "training_accuracy = grid_rf.score(x_train, y_train)\n",
    "testing_accuracy = grid_rf.score(x_test, y_test)\n",
    "\n",
    "# Print the training and testing accuracy\n",
    "print(\"Training accuracy: \", training_accuracy)\n",
    "print(\"Testing accuracy: \", testing_accuracy)"
   ]
  },
  {
   "cell_type": "code",
   "execution_count": 40,
   "id": "dbb285d2-272d-4446-8003-d19490841630",
   "metadata": {},
   "outputs": [
    {
     "data": {
      "text/html": [
       "<div>\n",
       "<style scoped>\n",
       "    .dataframe tbody tr th:only-of-type {\n",
       "        vertical-align: middle;\n",
       "    }\n",
       "\n",
       "    .dataframe tbody tr th {\n",
       "        vertical-align: top;\n",
       "    }\n",
       "\n",
       "    .dataframe thead th {\n",
       "        text-align: right;\n",
       "    }\n",
       "</style>\n",
       "<table border=\"1\" class=\"dataframe\">\n",
       "  <thead>\n",
       "    <tr style=\"text-align: right;\">\n",
       "      <th></th>\n",
       "      <th>Model_Name</th>\n",
       "      <th>Training_Accuracy</th>\n",
       "      <th>Testing_Accuracy</th>\n",
       "    </tr>\n",
       "  </thead>\n",
       "  <tbody>\n",
       "    <tr>\n",
       "      <th>0</th>\n",
       "      <td>d_tree_1</td>\n",
       "      <td>1.0</td>\n",
       "      <td>0.66512</td>\n",
       "    </tr>\n",
       "    <tr>\n",
       "      <th>1</th>\n",
       "      <td>d_tree_2</td>\n",
       "      <td>0.898392</td>\n",
       "      <td>0.682547</td>\n",
       "    </tr>\n",
       "    <tr>\n",
       "      <th>2</th>\n",
       "      <td>rf_1</td>\n",
       "      <td>0.9797</td>\n",
       "      <td>0.85909</td>\n",
       "    </tr>\n",
       "  </tbody>\n",
       "</table>\n",
       "</div>"
      ],
      "text/plain": [
       "  Model_Name Training_Accuracy Testing_Accuracy\n",
       "0   d_tree_1               1.0          0.66512\n",
       "1   d_tree_2          0.898392         0.682547\n",
       "2       rf_1            0.9797          0.85909"
      ]
     },
     "execution_count": 40,
     "metadata": {},
     "output_type": "execute_result"
    }
   ],
   "source": [
    "results = results.append({'Model_Name':'rf_1',\n",
    "                          'Training_Accuracy':0.9796996884358099,\n",
    "                          'Testing_Accuracy':0.8590898953534397,},\n",
    "                            ignore_index=True)\n",
    "results"
   ]
  },
  {
   "cell_type": "markdown",
   "id": "3ebc5137-11c7-4441-b630-6110ee04689b",
   "metadata": {},
   "source": [
    "**Observations**\n",
    "* Overall accuracy has improved with the random forest model with a testing accuracy of 86%.\n",
    "* The model is less overfitted with only a 12% difference. \n",
    "\n",
    "**We can try and tune the model to reduce overfitting**"
   ]
  },
  {
   "cell_type": "markdown",
   "id": "bb0b8e38-2802-4ff7-8007-f32aca6086c2",
   "metadata": {},
   "source": [
    "### **Random Forest Classifier - Tuned Model**"
   ]
  },
  {
   "cell_type": "code",
   "execution_count": 27,
   "id": "7ee5522f-ee1c-484e-91e3-780fc7dc6d5e",
   "metadata": {},
   "outputs": [
    {
     "name": "stdout",
     "output_type": "stream",
     "text": [
      "Best parameters:  {'bootstrap': True, 'max_depth': 10, 'max_leaf_nodes': 30, 'min_samples_leaf': 4, 'min_samples_split': 2, 'n_estimators': 200}\n"
     ]
    }
   ],
   "source": [
    "# Create the parameter grid\n",
    "param_grid = {\n",
    "    'bootstrap': [True, False],\n",
    "    'max_depth': [5, 10, 15],\n",
    "    'n_estimators': [100, 200, 500],  # Number of trees in the random forest\n",
    "    'min_samples_split': [2, 4, 6],  # Minimum number of samples required to split an internal node\n",
    "    'min_samples_leaf': [2, 4, 6],  # Minimum number of samples required to be at a leaf node\n",
    "    'max_leaf_nodes': [10, 20, 30], # Maximum number of leaf nodes\n",
    "}\n",
    "\n",
    "\n",
    "# Create the RandomForestRegressor object\n",
    "rf_2 = RandomForestRegressor(random_state=1)\n",
    "\n",
    "# Create the GridSearchCV object\n",
    "grid_rf_2 = GridSearchCV(estimator=rf_2, param_grid=param_grid, cv=3, n_jobs=-1)\n",
    "\n",
    "# Fit the grid search to the data\n",
    "grid_rf_2.fit(x_train, y_train)\n",
    "\n",
    "# Print the best hyperparameters found by GridSearchCV\n",
    "print(\"Best parameters: \", grid_rf_2.best_params_)\n"
   ]
  },
  {
   "cell_type": "code",
   "execution_count": 28,
   "id": "726b3ddb-8893-4481-ac00-0a956cce8267",
   "metadata": {},
   "outputs": [
    {
     "name": "stdout",
     "output_type": "stream",
     "text": [
      "Training accuracy:  0.8688388287495241\n",
      "Testing accuracy:  0.796666461082127\n"
     ]
    }
   ],
   "source": [
    "# Get the training and testing accuracy\n",
    "training_accuracy = grid_rf_2.score(x_train, y_train)\n",
    "testing_accuracy = grid_rf_2.score(x_test, y_test)\n",
    "\n",
    "# Print the training and testing accuracy\n",
    "print(\"Training accuracy: \", training_accuracy)\n",
    "print(\"Testing accuracy: \", testing_accuracy)"
   ]
  },
  {
   "cell_type": "code",
   "execution_count": 43,
   "id": "0abb7a25-a477-41a5-a893-efdd9d24fb45",
   "metadata": {},
   "outputs": [
    {
     "data": {
      "text/html": [
       "<div>\n",
       "<style scoped>\n",
       "    .dataframe tbody tr th:only-of-type {\n",
       "        vertical-align: middle;\n",
       "    }\n",
       "\n",
       "    .dataframe tbody tr th {\n",
       "        vertical-align: top;\n",
       "    }\n",
       "\n",
       "    .dataframe thead th {\n",
       "        text-align: right;\n",
       "    }\n",
       "</style>\n",
       "<table border=\"1\" class=\"dataframe\">\n",
       "  <thead>\n",
       "    <tr style=\"text-align: right;\">\n",
       "      <th></th>\n",
       "      <th>Model_Name</th>\n",
       "      <th>Training_Accuracy</th>\n",
       "      <th>Testing_Accuracy</th>\n",
       "    </tr>\n",
       "  </thead>\n",
       "  <tbody>\n",
       "    <tr>\n",
       "      <th>0</th>\n",
       "      <td>d_tree_1</td>\n",
       "      <td>1.0</td>\n",
       "      <td>0.66512</td>\n",
       "    </tr>\n",
       "    <tr>\n",
       "      <th>1</th>\n",
       "      <td>d_tree_2</td>\n",
       "      <td>0.898392</td>\n",
       "      <td>0.682547</td>\n",
       "    </tr>\n",
       "    <tr>\n",
       "      <th>2</th>\n",
       "      <td>rf_1</td>\n",
       "      <td>0.9797</td>\n",
       "      <td>0.85909</td>\n",
       "    </tr>\n",
       "    <tr>\n",
       "      <th>3</th>\n",
       "      <td>rf_2</td>\n",
       "      <td>0.868839</td>\n",
       "      <td>0.796666</td>\n",
       "    </tr>\n",
       "  </tbody>\n",
       "</table>\n",
       "</div>"
      ],
      "text/plain": [
       "  Model_Name Training_Accuracy Testing_Accuracy\n",
       "0   d_tree_1               1.0          0.66512\n",
       "1   d_tree_2          0.898392         0.682547\n",
       "2       rf_1            0.9797          0.85909\n",
       "3       rf_2          0.868839         0.796666"
      ]
     },
     "execution_count": 43,
     "metadata": {},
     "output_type": "execute_result"
    }
   ],
   "source": [
    "results = results.append({'Model_Name':'rf_2',\n",
    "                          'Training_Accuracy':0.8688388287495241,\n",
    "                          'Testing_Accuracy':0.796666461082127,},\n",
    "                            ignore_index=True)\n",
    "results"
   ]
  },
  {
   "cell_type": "markdown",
   "id": "cf5a0f86-ccca-4dc6-ae71-4d534f3d705f",
   "metadata": {},
   "source": [
    "Cant reduce the ~10% gap between the training accuraccy and the testing accuracy. Attempted multiple tuning methods to reduce overfitting and all reduced overall accuracy but maintained the gap. This likely means there is little improvement that can be gained from further tuning. The slight overfitting is likely due to the reletively small data size of 1678. Further improvement would have to come from gathering more data. \n",
    "\n",
    "* While the overfitted gap has been reduced from 12% to 7% the testing accuracy has fallend by 6%. \n",
    "* It is better therefore to **continue forward with rf_1 as it has the greater potntial to generalize well.**"
   ]
  },
  {
   "cell_type": "code",
   "execution_count": 44,
   "id": "1d6d51c0-bd7a-4ef1-ba95-9adeb28fb6c6",
   "metadata": {},
   "outputs": [
    {
     "data": {
      "text/plain": [
       "0.07217300000000004"
      ]
     },
     "execution_count": 44,
     "metadata": {},
     "output_type": "execute_result"
    }
   ],
   "source": [
    "0.868839-0.796666"
   ]
  },
  {
   "cell_type": "markdown",
   "id": "9c45efcd-2fe0-4632-aa37-4ba1afdd9b2d",
   "metadata": {},
   "source": [
    "#### **Feature Importance for rf_1**"
   ]
  },
  {
   "cell_type": "code",
   "execution_count": 46,
   "id": "1560993e-56ae-48b4-9f99-b9e233dea4fa",
   "metadata": {},
   "outputs": [
    {
     "data": {
      "image/png": "[encoded data removed]",
      "text/plain": [
       "<Figure size 720x360 with 1 Axes>"
      ]
     },
     "metadata": {},
     "output_type": "display_data"
    }
   ],
   "source": [
    "# Fit a RandomForestRegressor object with the best hyperparameters\n",
    "rf_best = RandomForestRegressor(random_state=1, **grid_rf.best_params_)\n",
    "rf_best.fit(x_train, y_train)\n",
    "\n",
    "# Plot the feature importance\n",
    "importance = rf_best.feature_importances_\n",
    "sorted_index = importance.argsort()[::-1]\n",
    "\n",
    "plt.figure(figsize=(10,5))\n",
    "plt.bar(range(x_train.shape[1]), importance[sorted_index], color='#006600', edgecolor='black')\n",
    "plt.xticks(range(x_train.shape[1]), x_train.columns[sorted_index], rotation=90)\n",
    "plt.xlabel(\"Features\")\n",
    "plt.ylabel(\"Importance\")\n",
    "plt.title(\"Feature Importance\")\n",
    "plt.show()"
   ]
  },
  {
   "cell_type": "markdown",
   "id": "eba656af-bd28-420e-b346-412948909eef",
   "metadata": {},
   "source": [
    "**Observations**\n",
    "* Feature importance shows no change from our tuned decision tree model to our random forest model. This supports our above observations."
   ]
  },
  {
   "cell_type": "markdown",
   "id": "c5fe8c3f-26a0-4532-9e1d-4d1e567c838e",
   "metadata": {},
   "source": [
    "## **Conclusion and Recommendations**\n",
    "### **Reminder of Objectives:**\n",
    "* Build a prediction model for sucess in golf measured by average golf score.\n",
    "* Determine the most impactfull features that determine a players golf scores.\n",
    "* Compare the impact of strokes gained stats and traditional stats on a players score.\n",
    "* Investigate the effect of short game vs long game skills on a players score.\n",
    "* Investigate the impact of driving accuracy vs driving distance on a players score.\n",
    "\n",
    "### **Conclusion:**\n",
    "#### **Model Performance**\n",
    "We built multiple decision tree based models that can predict average_score, we can see from the table below they generally **performed well** but with varying degrees **overfitted**:"
   ]
  },
  {
   "cell_type": "code",
   "execution_count": 47,
   "id": "225e0719-7b0f-4e4e-aaa1-b5e9d9dbf506",
   "metadata": {},
   "outputs": [
    {
     "data": {
      "text/html": [
       "<div>\n",
       "<style scoped>\n",
       "    .dataframe tbody tr th:only-of-type {\n",
       "        vertical-align: middle;\n",
       "    }\n",
       "\n",
       "    .dataframe tbody tr th {\n",
       "        vertical-align: top;\n",
       "    }\n",
       "\n",
       "    .dataframe thead th {\n",
       "        text-align: right;\n",
       "    }\n",
       "</style>\n",
       "<table border=\"1\" class=\"dataframe\">\n",
       "  <thead>\n",
       "    <tr style=\"text-align: right;\">\n",
       "      <th></th>\n",
       "      <th>Model_Name</th>\n",
       "      <th>Training_Accuracy</th>\n",
       "      <th>Testing_Accuracy</th>\n",
       "    </tr>\n",
       "  </thead>\n",
       "  <tbody>\n",
       "    <tr>\n",
       "      <th>0</th>\n",
       "      <td>d_tree_1</td>\n",
       "      <td>1.0</td>\n",
       "      <td>0.66512</td>\n",
       "    </tr>\n",
       "    <tr>\n",
       "      <th>1</th>\n",
       "      <td>d_tree_2</td>\n",
       "      <td>0.898392</td>\n",
       "      <td>0.682547</td>\n",
       "    </tr>\n",
       "    <tr>\n",
       "      <th>2</th>\n",
       "      <td>rf_1</td>\n",
       "      <td>0.9797</td>\n",
       "      <td>0.85909</td>\n",
       "    </tr>\n",
       "    <tr>\n",
       "      <th>3</th>\n",
       "      <td>rf_2</td>\n",
       "      <td>0.868839</td>\n",
       "      <td>0.796666</td>\n",
       "    </tr>\n",
       "  </tbody>\n",
       "</table>\n",
       "</div>"
      ],
      "text/plain": [
       "  Model_Name Training_Accuracy Testing_Accuracy\n",
       "0   d_tree_1               1.0          0.66512\n",
       "1   d_tree_2          0.898392         0.682547\n",
       "2       rf_1            0.9797          0.85909\n",
       "3       rf_2          0.868839         0.796666"
      ]
     },
     "execution_count": 47,
     "metadata": {},
     "output_type": "execute_result"
    }
   ],
   "source": [
    "results"
   ]
  },
  {
   "cell_type": "markdown",
   "id": "2c574d01-606f-4a8b-a50c-370b12db60e9",
   "metadata": {},
   "source": [
    "Both the random forest models rf_1 and rf_2 performed well with:\n",
    "    * rf_1 being overall more accurate\n",
    "    * rf_2 being slighlty less overfitted\n",
    "**The best option moving forward for a generalized model is likely rf_1 giving the greater accuracy of 86%.**\n",
    "\n",
    "#### **Feature Importance**\n",
    "Feature importance showed that:\n",
    "   * **Strokes Gained Approach** is the **highest impact** feature for determining a players score.\n",
    "   * Strokes Gained Off The Tee and Average Scrambling show **significant impact** for a players score.\n",
    "   * Strokes Gained Putts and Strokes Gained Around The Green show **minor impact** for a players score.\n",
    "   * Average Putts, Greens in regulation, driving distance, and fairway percentages showed **very little impact** for a players score. \n",
    "    \n",
    "    \n",
    "This, along with insight drawn from EDA, answers a number of our objective questions:\n",
    "   * We can see the **top impact features** for a players score, and therefore the **skills golfers should prioritize** first, are **approach shots, tee shots, and then scrambling**.\n",
    "      * Although it is likely that scrambling only performed better than SG-Putts and SG-Around the green because it is a sudo combination of those to metrics that is biased towards better play. \n",
    "  * Between the strokes gained stats and traditional stats, **strokes gained is clearly more impactfull**. With **traditional metrics having little to no impact** other than average scrambling. \n",
    "  * The traditional view that short game is a higher priority than long game is also debunked, with **long game metrics holding the top 2 positions**. \n",
    "  * The hypothesis that **fairways percentage** is a missleading metric is also confirmed with it holding the **lowest ranking position**.  \n",
    "\n"
   ]
  },
  {
   "cell_type": "markdown",
   "id": "a641f5cc-0e4b-4a01-8d6e-489d946532f9",
   "metadata": {},
   "source": [
    "### **Recommendations:**\n",
    "**Model Building**\n",
    "* While our model performs with a high accuracy of 86% and will likely generalize well, there still **room for improvement in both accuracy and overfitting**. Given the training and testing gap remained even with many itterations of tuning, we speculated these issues are likely coming from having a relatively **small data set of 1,678**. To further improve our model it is recomended:\n",
    "\n",
    "**Increase our data** set by finding additional data bases to draw from and merge with our current dataset.\n",
    "  * We can do this by sampling from PGA tour data outside of the 2010 to 2018 seasons\n",
    "       * However we should perhaps avoid the covid season of 2020-2021 as the data could be biased\n",
    "  * A better option to increase our data would be to sample from outside of the PGA tour. Not only would this give us more data but a greater range of player skill levels and therefore more diverse data. The best option for this would likely come from the ameture and college golf leagues as the recording of data is held to a high efficacy."
   ]
  },
  {
   "cell_type": "markdown",
   "id": "e50c8445-51a0-4a31-9baf-989bda880d37",
   "metadata": {},
   "source": [
    "**Applications:**\n",
    "\n",
    "Beyond the insights derived from our model it also has many practical applications. We can easily use this to predict a players performance given their past years stats, and therefore show players what the impact improvements in each stat would have. \n",
    "\n",
    "It should also be noted that while Strokes Gained stats have prooven to be of higher impact, they are not as practical to record as the more traditional stats. However, there is potential to train other models using this data to predict the strokes gained stats using the more traditional stats, specifically:\n",
    "  * SG Putts could be derived from gir, Average_Putts, and Average_Scrambling.\n",
    "  * SG ARG could be derived from gir, Average_Putts, and Average_Scrambling.\n",
    "  * SG-APR could be derived from Avg_Distance, Fairway_Percentage.\n",
    "  * SG-OTT could be derived from Avg_Distance, Fairway_Percentage.\n",
    "\n",
    "It would likely take additional features to do this with the needed accuracy but we could then use all the models in combination to take easily measured stats, to predict strokes gained stats, and then average score. For the everyday player this would provide a valuable system that would show them how to best improve at the game. "
   ]
  },
  {
   "cell_type": "code",
   "execution_count": null,
   "id": "06c25507-8e90-406d-bed2-b3b6aab3de96",
   "metadata": {},
   "outputs": [],
   "source": []
  }
 ],
 "metadata": {
  "kernelspec": {
   "display_name": "Python 3 (ipykernel)",
   "language": "python",
   "name": "python3"
  },
  "language_info": {
   "codemirror_mode": {
    "name": "ipython",
    "version": 3
   },
   "file_extension": ".py",
   "mimetype": "text/x-python",
   "name": "python",
   "nbconvert_exporter": "python",
   "pygments_lexer": "ipython3",
   "version": "3.9.12"
  }
 },
 "nbformat": 4,
 "nbformat_minor": 5
}
